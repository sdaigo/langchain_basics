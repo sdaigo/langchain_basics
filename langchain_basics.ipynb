{
  "nbformat": 4,
  "nbformat_minor": 0,
  "metadata": {
    "colab": {
      "provenance": [],
      "toc_visible": true,
      "authorship_tag": "ABX9TyNDUZnkkY3P15m6LqCcbYl5"
    },
    "kernelspec": {
      "name": "python3",
      "display_name": "Python 3"
    },
    "language_info": {
      "name": "python"
    }
  },
  "cells": [
    {
      "cell_type": "code",
      "execution_count": 36,
      "metadata": {
        "id": "tZvlctsrJCIn"
      },
      "outputs": [],
      "source": [
        "!pip install langchain openai pydantic -q"
      ]
    },
    {
      "cell_type": "code",
      "source": [
        "import os\n",
        "from google.colab import userdata\n",
        "\n",
        "os.environ[\"OPENAI_API_KEY\"] = userdata.get('OPENAI_KEY')"
      ],
      "metadata": {
        "id": "9RGrr8DvKa_8"
      },
      "execution_count": 4,
      "outputs": []
    },
    {
      "cell_type": "code",
      "source": [
        "from langchain.chat_models import ChatOpenAI\n",
        "from langchain.schema import AIMessage, HumanMessage, SystemMessage\n",
        "from langchain.callbacks.streaming_stdout import StreamingStdOutCallbackHandler\n",
        "\n",
        "chat = ChatOpenAI(\n",
        "    model_name=\"gpt-3.5-turbo\",\n",
        "    temperature=0,\n",
        "    streaming=True,\n",
        "    callbacks=[StreamingStdOutCallbackHandler()]\n",
        ")\n",
        "\n",
        "messages = [\n",
        "    SystemMessage(content=\"You are a helpful assistant.\"),\n",
        "    HumanMessage(content=\"Hello, I'm John.\"),\n",
        "    AIMessage(content=\"Hello, John.\"),\n",
        "    HumanMessage(content=\"Do you know my name.\"),\n",
        "]\n",
        "\n",
        "result = chat(messages)"
      ],
      "metadata": {
        "id": "KKdLAAhxJKmg",
        "colab": {
          "base_uri": "https://localhost:8080/"
        },
        "outputId": "5e10eb4e-27b8-48c4-8300-aaf27dd60462"
      },
      "execution_count": 11,
      "outputs": [
        {
          "output_type": "stream",
          "name": "stdout",
          "text": [
            "Yes, you mentioned your name is John. How can I assist you today, John?"
          ]
        }
      ]
    },
    {
      "cell_type": "markdown",
      "source": [
        "## PropmtTemplate"
      ],
      "metadata": {
        "id": "2ezPVJZyd0QL"
      }
    },
    {
      "cell_type": "code",
      "source": [
        "from langchain.prompts import PromptTemplate\n",
        "\n",
        "template = \"\"\"\n",
        "以下の料理のレシピを考えてください。\n",
        "\n",
        "料理名: {dish}\n",
        "\"\"\"\n",
        "\n",
        "prompt = PromptTemplate(\n",
        "    input_variables=[\"dish\"],\n",
        "    template=template\n",
        ")\n",
        "\n",
        "result = prompt.format(dish=\"カレー\")\n",
        "print(result)"
      ],
      "metadata": {
        "colab": {
          "base_uri": "https://localhost:8080/"
        },
        "id": "VGzyTZbgKLvC",
        "outputId": "77703a32-e443-443c-853c-71e0d5877023"
      },
      "execution_count": 13,
      "outputs": [
        {
          "output_type": "stream",
          "name": "stdout",
          "text": [
            "\n",
            "以下の料理のレシピを考えてください。\n",
            "\n",
            "料理名: カレー\n",
            "\n"
          ]
        }
      ]
    },
    {
      "cell_type": "code",
      "source": [
        "from langchain.prompts import (\n",
        "    ChatPromptTemplate,\n",
        "    PromptTemplate,\n",
        "    SystemMessagePromptTemplate,\n",
        "    HumanMessagePromptTemplate\n",
        ")\n",
        "from langchain.schema import HumanMessage, SystemMessage\n",
        "\n",
        "chat_prompt = ChatPromptTemplate.from_messages([\n",
        "    SystemMessagePromptTemplate.from_template(\"あなたは{country}料理のプロです\"),\n",
        "    HumanMessagePromptTemplate.from_template(\"以下の大まかな料理名から、具体的な料理のレシピを考えてください。また、料理のイメージがわかる画像を検索するためのGoogle画像検索のためのURLを教えてください \\n\\n料理名: {dish}\")\n",
        "])\n",
        "\n",
        "messages = chat_prompt.format_prompt(country=\"オランダ\", dish=\"魚料理\").to_messages()\n",
        "messages"
      ],
      "metadata": {
        "colab": {
          "base_uri": "https://localhost:8080/"
        },
        "id": "lsBmdKbneNUu",
        "outputId": "a3edb129-9bd6-44f6-eb72-168ee7a5888d"
      },
      "execution_count": 34,
      "outputs": [
        {
          "output_type": "execute_result",
          "data": {
            "text/plain": [
              "[SystemMessage(content='あなたはオランダ料理のプロです'),\n",
              " HumanMessage(content='以下の大まかな料理名から、具体的な料理のレシピを考えてください。また、料理のイメージがわかる画像を検索するためのGoogle画像検索のためのURLを教えてください \\n\\n料理名: 魚料理')]"
            ]
          },
          "metadata": {},
          "execution_count": 34
        }
      ]
    },
    {
      "cell_type": "code",
      "source": [
        "chat(messages)"
      ],
      "metadata": {
        "colab": {
          "base_uri": "https://localhost:8080/"
        },
        "id": "aShy9_8wfZpP",
        "outputId": "5f5d3aa7-e4dd-42e4-b1f6-6ffbbfa8721c"
      },
      "execution_count": 35,
      "outputs": [
        {
          "output_type": "stream",
          "name": "stdout",
          "text": [
            "オランダ料理の代表的な魚料理として、「ヘリング」という料理があります。ヘリングは、生のニシンを塩漬けにして、特製のソースやタマネギと一緒に食べる料理です。\n",
            "\n",
            "ヘリングのレシピ:\n",
            "1. 新鮮なニシンをきれいに洗い、骨を取り除きます。\n",
            "2. ニシンに塩をまぶし、数時間から一晩寝かせて塩漬けにします。\n",
            "3. 塩漬けしたニシンを軽く水洗いし、細切りにします。\n",
            "4. タマネギを薄切りにし、特製のソース（酢、砂糖、塩、こしょうを混ぜたもの）と一緒に盛り付けます。\n",
            "5. レモンの輪切りやパセリを添えて、冷蔵庫で冷やしてから食べます。\n",
            "\n",
            "Google画像検索のURL: https://www.google.com/search?q=%E3%83%98%E3%83%AA%E3%83%B3%E3%82%B0+%E3%82%AA%E3%83%A9%E3%83%B3%E3%83%80%E3%83%BB%E3%83%98%E3%83%AA%E3%83%B3%E3%82%B0&tbm=isch"
          ]
        },
        {
          "output_type": "execute_result",
          "data": {
            "text/plain": [
              "AIMessage(content='オランダ料理の代表的な魚料理として、「ヘリング」という料理があります。ヘリングは、生のニシンを塩漬けにして、特製のソースやタマネギと一緒に食べる料理です。\\n\\nヘリングのレシピ:\\n1. 新鮮なニシンをきれいに洗い、骨を取り除きます。\\n2. ニシンに塩をまぶし、数時間から一晩寝かせて塩漬けにします。\\n3. 塩漬けしたニシンを軽く水洗いし、細切りにします。\\n4. タマネギを薄切りにし、特製のソース（酢、砂糖、塩、こしょうを混ぜたもの）と一緒に盛り付けます。\\n5. レモンの輪切りやパセリを添えて、冷蔵庫で冷やしてから食べます。\\n\\nGoogle画像検索のURL: https://www.google.com/search?q=%E3%83%98%E3%83%AA%E3%83%B3%E3%82%B0+%E3%82%AA%E3%83%A9%E3%83%B3%E3%83%80%E3%83%BB%E3%83%98%E3%83%AA%E3%83%B3%E3%82%B0&tbm=isch', response_metadata={'finish_reason': 'stop'})"
            ]
          },
          "metadata": {},
          "execution_count": 35
        }
      ]
    },
    {
      "cell_type": "markdown",
      "source": [
        "## Output parsers"
      ],
      "metadata": {
        "id": "9QuaayzSiDDi"
      }
    },
    {
      "cell_type": "code",
      "source": [
        "from pydantic import BaseModel, Field\n",
        "\n",
        "class Recipe(BaseModel):\n",
        "  ingredients: list[str] = Field(description=\"ingredients of the dish\")\n",
        "  steps: list[str] = Field(description=\"steps to make the dish\")"
      ],
      "metadata": {
        "id": "Ws1PFR3Xf407"
      },
      "execution_count": 37,
      "outputs": []
    },
    {
      "cell_type": "code",
      "source": [
        "from langchain.output_parsers import PydanticOutputParser\n",
        "\n",
        "parser = PydanticOutputParser(pydantic_object=Recipe)\n",
        "format_instructions = parser.get_format_instructions()\n",
        "\n",
        "print(format_instructions)"
      ],
      "metadata": {
        "colab": {
          "base_uri": "https://localhost:8080/"
        },
        "id": "z134C4GWiX9U",
        "outputId": "8e3cfb53-516a-49fa-f8e8-863065f3e71d"
      },
      "execution_count": 38,
      "outputs": [
        {
          "output_type": "stream",
          "name": "stdout",
          "text": [
            "The output should be formatted as a JSON instance that conforms to the JSON schema below.\n",
            "\n",
            "As an example, for the schema {\"properties\": {\"foo\": {\"title\": \"Foo\", \"description\": \"a list of strings\", \"type\": \"array\", \"items\": {\"type\": \"string\"}}}, \"required\": [\"foo\"]}\n",
            "the object {\"foo\": [\"bar\", \"baz\"]} is a well-formatted instance of the schema. The object {\"properties\": {\"foo\": [\"bar\", \"baz\"]}} is not well-formatted.\n",
            "\n",
            "Here is the output schema:\n",
            "```\n",
            "{\"properties\": {\"ingredients\": {\"description\": \"ingredients of the dish\", \"items\": {\"type\": \"string\"}, \"title\": \"Ingredients\", \"type\": \"array\"}, \"steps\": {\"description\": \"steps to make the dish\", \"items\": {\"type\": \"string\"}, \"title\": \"Steps\", \"type\": \"array\"}}, \"required\": [\"ingredients\", \"steps\"]}\n",
            "```\n"
          ]
        }
      ]
    },
    {
      "cell_type": "code",
      "source": [
        "template = \"\"\"\n",
        "以下の大まかな料理名から、具体的な料理のレシピを考えてください。また、料理のイメージがわかる画像を検索するためのGoogle画像検索のためのURLを教えてください。\n",
        "\n",
        "{format_instructions}\n",
        "\n",
        "料理名: {dish}\n",
        "\"\"\"\n",
        "\n",
        "prompt = PromptTemplate(\n",
        "    template=template,\n",
        "    input_variables=[\"dish\"],\n",
        "    partial_variables={\n",
        "        \"format_instructions\": format_instructions\n",
        "    }\n",
        ")"
      ],
      "metadata": {
        "id": "3gwkFfkki4BB"
      },
      "execution_count": 39,
      "outputs": []
    },
    {
      "cell_type": "code",
      "source": [
        "formatted_prompt = prompt.format(dish=\"カレー\")\n",
        "\n",
        "chat = ChatOpenAI(\n",
        "    model_name=\"gpt-3.5-turbo\",\n",
        "    temperature=0,\n",
        ")\n",
        "\n",
        "messages = [\n",
        "    HumanMessage(content=formatted_prompt),\n",
        "]\n",
        "\n",
        "result = chat(messages)\n",
        "print(result.content)"
      ],
      "metadata": {
        "colab": {
          "base_uri": "https://localhost:8080/"
        },
        "id": "ZvNq2JMTjUC-",
        "outputId": "c876bbd6-9ed3-47e9-a075-5918bd0638be"
      },
      "execution_count": 42,
      "outputs": [
        {
          "output_type": "stream",
          "name": "stdout",
          "text": [
            "{\n",
            "    \"ingredients\": [\n",
            "        \"玉ねぎ\",\n",
            "        \"人参\",\n",
            "        \"ジャガイモ\",\n",
            "        \"牛肉\",\n",
            "        \"カレールー\",\n",
            "        \"水\",\n",
            "        \"油\"\n",
            "    ],\n",
            "    \"steps\": [\n",
            "        \"1. 鍋に油を熱し、玉ねぎを炒める。\",\n",
            "        \"2. 人参、ジャガイモ、牛肉を加えて炒める。\",\n",
            "        \"3. 水を加えて煮込み、カレールーを溶かす。\",\n",
            "        \"4. 具材が柔らかくなったら完成。\"\n",
            "    ]\n",
            "}\n"
          ]
        }
      ]
    }
  ]
}